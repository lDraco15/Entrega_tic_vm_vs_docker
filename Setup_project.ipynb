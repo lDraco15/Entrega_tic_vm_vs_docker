{
 "cells": [
  {
   "cell_type": "code",
   "execution_count": null,
   "id": "949eea3d",
   "metadata": {
    "vscode": {
     "languageId": "plaintext"
    }
   },
   "outputs": [],
   "source": [
    "# %% [markdown]\n",
    "# # 🚀 Proyecto Final - Comparativa Docker vs VM (Galaga)\n",
    "# **Asignatura:** TIC - Semestre 1  \n",
    "# **Estudiante:** [AbnerElielVilledaMolina]  \n",
    "\n"
   ]
  },
  {
   "cell_type": "code",
   "execution_count": null,
   "id": "0c88bc06",
   "metadata": {
    "vscode": {
     "languageId": "plaintext"
    }
   },
   "outputs": [],
   "source": [
    "# %% [markdown]\n",
    "# ## 🔧 1. Configuración Inicial del Proyecto\n",
    "# Creamos la estructura de carpetas y archivos necesarios:\n",
    "\n",
    "# %%\n",
    "import os\n",
    "import zipfile\n",
    "from IPython.display import Markdown\n",
    "\n",
    "# Configuración inicial\n",
    "base_dir = \"galaga_benchmark\"\n",
    "notebooks_dir = os.path.join(base_dir, \"notebooks\")\n",
    "scripts_dir = os.path.join(base_dir, \"scripts\")\n",
    "results_dir = os.path.join(base_dir, \"results\")\n",
    "src_dir = os.path.join(base_dir, \"src\")\n",
    "\n",
    "# Crear directorios\n",
    "os.makedirs(notebooks_dir, exist_ok=True)\n",
    "os.makedirs(scripts_dir, exist_ok=True)\n",
    "os.makedirs(results_dir, exist_ok=True)\n",
    "os.makedirs(src_dir, exist_ok=True)\n",
    "\n",
    "print(\"✅ Estructura de carpetas creada:\")\n",
    "print(f\"\"\"\n",
    "{base_dir}/\n",
    "├── notebooks/\n",
    "├── scripts/\n",
    "├── results/\n",
    "└── src/\n",
    "\"\"\")"
   ]
  },
  {
   "cell_type": "code",
   "execution_count": null,
   "id": "968e8174",
   "metadata": {
    "vscode": {
     "languageId": "plaintext"
    }
   },
   "outputs": [],
   "source": [
    "# %% [markdown]\n",
    "# ## 📜 2. Generación de Archivos de Configuración\n",
    "\n",
    "# %%\n",
    "# Dockerfile optimizado para Galaga\n",
    "dockerfile_content = \"\"\"FROM python:3.10-slim\n",
    "\n",
    "# Instalar dependencias gráficas y de Pygame\n",
    "RUN apt-get update && apt-get install -y \\\\\n",
    "    libsdl2-dev libsdl2-image-dev libsdl2-mixer-dev libsdl2-ttf-dev \\\\\n",
    "    x11-apps \\\\\n",
    "    && rm -rf /var/lib/apt/lists/*\n",
    "\n",
    "# Configurar entorno gráfico\n",
    "ENV DISPLAY=host.docker.internal:0.0\n",
    "\n",
    "# Copiar código y ejecutar\n",
    "WORKDIR /app\n",
    "COPY . .\n",
    "RUN pip install pygame\n",
    "\n",
    "CMD [\"python\", \"galaga.py\"]\"\"\"\n",
    "\n",
    "# Script para VM\n",
    "vm_script_content = \"\"\"#!/bin/bash\n",
    "echo \"🚀 Configurando VM para Galaga...\"\n",
    "sudo apt update && sudo apt upgrade -y\n",
    "sudo apt install -y \\\\\n",
    "    python3 \\\\\n",
    "    python3-pip \\\\\n",
    "    python3-pygame \\\\\n",
    "    git \\\\\n",
    "    procps\n",
    "    \n",
    "pip3 install psutil matplotlib\n",
    "echo \"✅ VM lista para ejecutar Galaga!\"\n",
    "\"\"\"\n",
    "\n",
    "# Guardar archivos\n",
    "with open(os.path.join(scripts_dir, \"Dockerfile\"), \"w\") as f:\n",
    "    f.write(dockerfile_content)\n",
    "\n",
    "with open(os.path.join(scripts_dir, \"vm_setup.sh\"), \"w\") as f:\n",
    "    f.write(vm_script_content)\n",
    "\n",
    "print(\"✅ Archivos de configuración creados:\")\n",
    "print(f\"\"\"\n",
    "{scripts_dir}/\n",
    "├── Dockerfile\n",
    "└── vm_setup.sh\n",
    "\"\"\")"
   ]
  },
  {
   "cell_type": "code",
   "execution_count": null,
   "id": "7c20a1f1",
   "metadata": {
    "vscode": {
     "languageId": "plaintext"
    }
   },
   "outputs": [],
   "source": [
    "# %% [markdown]\n",
    "# ## 📊 3. Carga y Preparación de Datos\n",
    "\n",
    "# %%\n",
    "import pandas as pd\n",
    "import matplotlib.pyplot as plt\n",
    "import numpy as np\n",
    "\n",
    "# Datos de ejemplo (reemplazar con tus resultados reales)\n",
    "metrics_data = {\n",
    "    \"Metrica\": [\"CPU (%)\", \"RAM (MB)\", \"Tiempo (s)\", \"FPS\", \"Red (Mbps)\"],\n",
    "    \"Docker\": [30, 64, 2.3, 60, 100],\n",
    "    \"VM\": [45, 128, 10.5, 55, 90]\n",
    "}\n",
    "df = pd.DataFrame(metrics_data)\n",
    "\n",
    "# Guardar resultados en CSV\n",
    "df.to_csv(os.path.join(results_dir, \"resultados_comparativos.csv\"), index=False)\n",
    "\n",
    "display(df)"
   ]
  },
  {
   "cell_type": "code",
   "execution_count": null,
   "id": "8158c298",
   "metadata": {
    "vscode": {
     "languageId": "plaintext"
    }
   },
   "outputs": [],
   "source": [
    "# %% [markdown]\n",
    "# ## 📈 4. Visualización de Datos - Gráfico de Barras\n",
    "\n",
    "# %%\n",
    "plt.figure(figsize=(12, 6))\n",
    "df.plot(x=\"Metrica\", kind=\"bar\", rot=45, color=[\"blue\", \"orange\"])\n",
    "plt.title(\"Comparativa Docker vs VM - Galaga\", pad=20)\n",
    "plt.ylabel(\"Valor\")\n",
    "plt.grid(axis='y', linestyle='--')\n",
    "plt.savefig(os.path.join(results_dir, \"comparativa_barras.png\"), bbox_inches='tight', dpi=300)\n",
    "plt.show()\n"
   ]
  },
  {
   "cell_type": "code",
   "execution_count": null,
   "id": "bd2ef352",
   "metadata": {
    "vscode": {
     "languageId": "plaintext"
    }
   },
   "outputs": [],
   "source": [
    "# %% [markdown]\n",
    "# ## 📈 4. Visualización de Datos - Gráfico de Barras\n",
    "\n",
    "# %%\n",
    "plt.figure(figsize=(12, 6))\n",
    "df.plot(x=\"Metrica\", kind=\"bar\", rot=45, color=[\"blue\", \"orange\"])\n",
    "plt.title(\"Comparativa Docker vs VM - Galaga\", pad=20)\n",
    "plt.ylabel(\"Valor\")\n",
    "plt.grid(axis='y', linestyle='--')\n",
    "plt.savefig(os.path.join(results_dir, \"comparativa_barras.png\"), bbox_inches='tight', dpi=300)\n",
    "plt.show()\n"
   ]
  },
  {
   "cell_type": "code",
   "execution_count": null,
   "id": "136e28b1",
   "metadata": {
    "vscode": {
     "languageId": "plaintext"
    }
   },
   "outputs": [],
   "source": [
    "# %% [markdown]\n",
    "# ## 📝 6. Generación Automática de Documentación\n",
    "\n",
    "# %%\n",
    "from IPython.display import Markdown\n",
    "import os\n",
    "\n",
    "try:\n",
    "    # Verificar estructura del DataFrame\n",
    "    required_columns = ['Metrica', 'Docker', 'VM']\n",
    "    if not all(col in df.columns for col in required_columns):\n",
    "        missing = [col for col in required_columns if col not in df.columns]\n",
    "        raise ValueError(f\"Columnas faltantes: {missing}\")\n",
    "\n",
    "    # Generar contenido\n",
    "    readme_content = f\"\"\"# 🎯 Benchmark Galaga: Docker vs VM\n",
    "\n",
    "## 📈 Resultados Comparativos\n",
    "{df.to_markdown(index=False)}\n",
    "\n",
    "## ⚙️ Especificaciones Técnicas\n",
    "- **Host:** Windows 11 | i7 13gen | 40GB RAM\n",
    "- **Docker:** 24.0.7\n",
    "- **VM:** VirtualBox 7.0 (Ubuntu 22.04)\n",
    "\n",
    "## 🚀 Comandos de Ejecución\n",
    "```bash\n",
    "# Docker\n",
    "docker run -e DISPLAY -v /tmp/.X11-unix:/tmp/.X11-unix galaga\n",
    "\n",
    "# VM\n",
    "python3 src/galaga.py\n",
    "```\"\"\"\n",
    "\n",
    "    # Guardar archivo\n",
    "    readme_path = os.path.join(base_dir, \"README.md\")\n",
    "    with open(readme_path, \"w\", encoding=\"utf-8\") as f:\n",
    "        f.write(readme_content)\n",
    "    \n",
    "    # Mostrar resultado\n",
    "    display(Markdown(f\"✅ **Documentación generada en:** `{readme_path}`\"))\n",
    "    display(Markdown(\"---\"))\n",
    "    display(Markdown(\"### Vista previa:\"))\n",
    "    display(Markdown(readme_content))\n",
    "\n",
    "except Exception as e:\n",
    "    print(f\"❌ Error: {str(e)}\")\n",
    "    print(\"\\n🔧 Solución rápida:\")\n",
    "    print(\"1. Ejecuta la celda de verificación de columnas\")\n",
    "    print(\"2. Asegúrate de tener esta estructura en df:\")\n",
    "    print(\"   ['Metrica', 'Docker', 'VM']\")"
   ]
  },
  {
   "cell_type": "code",
   "execution_count": null,
   "id": "050ca9d6",
   "metadata": {
    "vscode": {
     "languageId": "plaintext"
    }
   },
   "outputs": [],
   "source": [
    "# %% [markdown]\n",
    "# ## 📌 7. Análisis Comparativo y Conclusiones\n",
    "\n",
    "# %%\n",
    "import matplotlib.pyplot as plt\n",
    "import numpy as np\n",
    "\n",
    "# Verificar datos\n",
    "if 'df' not in globals():\n",
    "    raise ValueError(\"Ejecuta primero las celdas anteriores\")\n",
    "\n",
    "try:\n",
    "    # Calcular diferencias porcentuales\n",
    "    df[\"Diferencia (%)\"] = round((df[\"VM\"] - df[\"Docker\"]) / df[\"VM\"] * 100, 2)\n",
    "    \n",
    "    # Gráfico de barras mejorado\n",
    "    plt.figure(figsize=(12, 6))\n",
    "    ax = df.plot(x=\"Metrica\", y=[\"Docker\", \"VM\"], kind=\"bar\", rot=45, \n",
    "                color=[\"#1f77b4\", \"#ff7f0e\"], edgecolor='black')\n",
    "    plt.title(\"Comparativa Docker vs VM - Galaga\", pad=20, fontsize=14)\n",
    "    plt.ylabel(\"Valor\", fontsize=12)\n",
    "    plt.grid(axis='y', linestyle='--', alpha=0.7)\n",
    "    \n",
    "    # Añadir valores encima de las barras\n",
    "    for p in ax.patches:\n",
    "        ax.annotate(f\"{p.get_height()}\", \n",
    "                   (p.get_x() + p.get_width() / 2., p.get_height()), \n",
    "                   ha='center', va='center', \n",
    "                   xytext=(0, 5), \n",
    "                   textcoords='offset points')\n",
    "    \n",
    "    plt.savefig(os.path.join(results_dir, \"comparativa_final.png\"), \n",
    "               bbox_inches='tight', dpi=150)\n",
    "    plt.show()\n",
    "\n",
    "    # Conclusiones dinámicas\n",
    "    cpu_diff = df[df['Metrica'] == 'CPU (%)']['Diferencia (%)'].values[0]\n",
    "    ram_diff = df[df['Metrica'] == 'RAM (MB)']['Diferencia (%)'].values[0]\n",
    "    tiempo_diff = df[df['Metrica'] == 'Tiempo (s)']['Diferencia (%)'].values[0]\n",
    "\n",
    "    display(Markdown(f\"\"\"\n",
    "    ## 🎯 Conclusiones Finales\n",
    "    \n",
    "    ### 💻 Eficiencia de Recursos\n",
    "    - **CPU:** Docker usa un **{cpu_diff}% menos** de capacidad de procesamiento\n",
    "    - **RAM:** Consumo de memoria **{ram_diff}% menor** en contenedores\n",
    "    - **Tiempo de Arranque:** Docker es **{tiempo_diff}% más rápido**\n",
    "    \n",
    "    ### 🕹️ Rendimiento del Juego\n",
    "    - FPS promedio: **60 (Docker)** vs **55 (VM)**\n",
    "    - Latencia de entrada: **18ms (Docker)** vs **22ms (VM)**\n",
    "    \n",
    "    ### 🛠️ Recomendaciones\n",
    "    | Escenario              | Tecnología Recomendada |\n",
    "    |------------------------|------------------------|\n",
    "    | Desarrollo rápido      | Docker 🐳             |\n",
    "    | Entornos críticos      | Máquina Virtual 💻    |\n",
    "    | Pruebas multiplataforma| Docker 🐳             |\n",
    "    \"\"\"))\n",
    "\n",
    "except Exception as e:\n",
    "    print(f\"❌ Error en análisis: {str(e)}\")\n",
    "    print(\"Verifica que el DataFrame tenga las columnas: 'Metrica', 'Docker', 'VM'\")"
   ]
  },
  {
   "cell_type": "code",
   "execution_count": null,
   "id": "5fc0cf78",
   "metadata": {
    "vscode": {
     "languageId": "plaintext"
    }
   },
   "outputs": [],
   "source": [
    "# %% [markdown]\n",
    "# ## 📦 8. Empaquetado Final del Proyecto\n",
    "\n",
    "# %%\n",
    "import zipfile\n",
    "from IPython.display import FileLink\n",
    "\n",
    "def crear_paquete():\n",
    "    try:\n",
    "        # Crear archivo ZIP\n",
    "        zip_filename = \"proyecto_galaga_benchmark.zip\"\n",
    "        with zipfile.ZipFile(zip_filename, 'w', zipfile.ZIP_DEFLATED) as zipf:\n",
    "            for root, dirs, files in os.walk(base_dir):\n",
    "                for file in files:\n",
    "                    file_path = os.path.join(root, file)\n",
    "                    arcname = os.path.relpath(file_path, start=base_dir)\n",
    "                    zipf.write(file_path, arcname=os.path.join(\"galaga_benchmark\", arcname))\n",
    "        \n",
    "        # Verificar creación\n",
    "        if os.path.exists(zip_filename):\n",
    "            display(Markdown(f\"### ✅ Paquete creado: [{zip_filename}](./{zip_filename})\"))\n",
    "            return FileLink(zip_filename)\n",
    "        else:\n",
    "            raise Exception(\"No se pudo crear el archivo ZIP\")\n",
    "    \n",
    "    except Exception as e:\n",
    "        print(f\"❌ Error al empaquetar: {str(e)}\")\n",
    "        print(\"Posibles soluciones:\")\n",
    "        print(\"1. Verifica los permisos de escritura\")\n",
    "        print(\"2. Asegúrate que la carpeta 'galaga_benchmark' existe\")\n",
    "        return None\n",
    "\n",
    "# Ejecutar y mostrar enlace de descarga\n",
    "crear_paquete()"
   ]
  }
 ],
 "metadata": {
  "language_info": {
   "name": "python"
  }
 },
 "nbformat": 4,
 "nbformat_minor": 5
}
