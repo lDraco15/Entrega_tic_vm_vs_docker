{
 "cells": [
  {
   "cell_type": "code",
   "execution_count": null,
   "id": "ac78ccb7",
   "metadata": {
    "vscode": {
     "languageId": "plaintext"
    }
   },
   "outputs": [],
   "source": []
  },
  {
   "cell_type": "code",
   "execution_count": null,
   "id": "5014d569",
   "metadata": {
    "vscode": {
     "languageId": "plaintext"
    }
   },
   "outputs": [],
   "source": [
    "# Actualizar sistema e instalar dependencias\n",
    "sudo apt update && sudo apt upgrade -y\n",
    "sudo apt install python3 python3-pip htop git -y\n",
    "pip3 install pygame\n",
    "\n",
    "# Ejecutar el juego Galaga (versión local)\n",
    "python3 galaga.py\n",
    "\n",
    "# Monitorear uso de CPU/RAM mientras el juego se ejecuta\n",
    "htop\n"
   ]
  },
  {
   "cell_type": "code",
   "execution_count": null,
   "id": "75b68c41",
   "metadata": {
    "vscode": {
     "languageId": "plaintext"
    }
   },
   "outputs": [],
   "source": [
    "# Navegar al proyecto y construir la imagen\n",
    "cd ruta\\al\\proyecto-galaga-docker\n",
    "docker build -t galaga-docker .\n",
    "\n",
    "# Ejecutar el contenedor (modo gráfico con VcXsrv activo)\n",
    "docker run --rm galaga-docker\n",
    "\n",
    "# Medir el uso de recursos en vivo del contenedor\n",
    "docker stats\n"
   ]
  }
 ],
 "metadata": {
  "language_info": {
   "name": "python"
  }
 },
 "nbformat": 4,
 "nbformat_minor": 5
}
